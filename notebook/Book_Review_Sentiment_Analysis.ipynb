{
 "cells": [
  {
   "cell_type": "markdown",
   "id": "dfaf1729",
   "metadata": {},
   "source": [
    "# Book Review Sentiment Analysis\n",
    "_Final Project — Cornell Tech Machine Learning Foundations_\n",
    "\n",
    "**Last updated:** 2025-10-01\n",
    "\n",
    "This notebook demonstrates the full ML lifecycle for an NLP classification task:\n",
    "**problem definition → EDA → preprocessing → modeling → evaluation → comparison → takeaway**.\n",
    "\n",
    "> **Goal:** Predict whether a book review is **positive** or **negative** from raw text.\n"
   ]
  },
  {
   "cell_type": "markdown",
   "id": "bcf4d6e2",
   "metadata": {},
   "source": [
    "## 1. Project Overview\n",
    "\n",
    "- **Problem type:** Supervised **binary classification** (text sentiment).\n",
    "- **Business value:** Real-time monitoring of customer feedback can alert product teams and\n",
    "  support to reputation risks and highlight strengths that drive retention.\n",
    "- **Input features:** Raw review text → cleaned and vectorized via **TF‑IDF**.\n",
    "- **Label:** `PositiveReview` (1 = positive, 0 = negative).\n",
    "- **Models compared:** Logistic Regression (with hyperparameter search) vs. a simple Keras Feedforward Network.\n",
    "- **Key metrics:** Accuracy, Precision, Recall, F1, and Confusion Matrix.\n"
   ]
  },
  {
   "cell_type": "markdown",
   "id": "3f4b89a2",
   "metadata": {},
   "source": [
    "## 2. Setup & Data\n",
    "\n",
    "> 🗂️ **Dataset options:**  \n",
    "> - If you have the course dataset, set `DATA_PATH` to that CSV.  \n",
    "> - Otherwise, place a CSV named `book_reviews.csv` with columns `Review` and `PositiveReview` in the project root.\n",
    "\n",
    "**Environment**: Python 3.x, pandas, numpy, scikit-learn, matplotlib, tensorflow (for the NN baseline).\n"
   ]
  },
  {
   "cell_type": "code",
   "execution_count": 2,
   "id": "cec22316",
   "metadata": {},
   "outputs": [
    {
     "name": "stdout",
     "output_type": "stream",
     "text": [
      "Collecting tensorflow\n",
      "  Using cached tensorflow-2.20.0-cp312-cp312-win_amd64.whl.metadata (4.6 kB)\n",
      "Requirement already satisfied: absl-py>=1.0.0 in c:\\python312\\lib\\site-packages (from tensorflow) (2.3.1)\n",
      "Requirement already satisfied: astunparse>=1.6.0 in c:\\python312\\lib\\site-packages (from tensorflow) (1.6.3)\n",
      "Requirement already satisfied: flatbuffers>=24.3.25 in c:\\python312\\lib\\site-packages (from tensorflow) (25.9.23)\n",
      "Requirement already satisfied: gast!=0.5.0,!=0.5.1,!=0.5.2,>=0.2.1 in c:\\python312\\lib\\site-packages (from tensorflow) (0.6.0)\n",
      "Requirement already satisfied: google_pasta>=0.1.1 in c:\\python312\\lib\\site-packages (from tensorflow) (0.2.0)\n",
      "Requirement already satisfied: libclang>=13.0.0 in c:\\python312\\lib\\site-packages (from tensorflow) (18.1.1)\n",
      "Requirement already satisfied: opt_einsum>=2.3.2 in c:\\python312\\lib\\site-packages (from tensorflow) (3.4.0)\n",
      "Requirement already satisfied: packaging in c:\\users\\michael\\appdata\\roaming\\python\\python312\\site-packages (from tensorflow) (24.2)\n",
      "Requirement already satisfied: protobuf>=5.28.0 in c:\\python312\\lib\\site-packages (from tensorflow) (6.32.1)\n",
      "Requirement already satisfied: requests<3,>=2.21.0 in c:\\users\\michael\\appdata\\roaming\\python\\python312\\site-packages (from tensorflow) (2.32.3)\n",
      "Requirement already satisfied: setuptools in c:\\users\\michael\\appdata\\roaming\\python\\python312\\site-packages (from tensorflow) (75.8.2)\n",
      "Requirement already satisfied: six>=1.12.0 in c:\\users\\michael\\appdata\\roaming\\python\\python312\\site-packages (from tensorflow) (1.17.0)\n",
      "Requirement already satisfied: termcolor>=1.1.0 in c:\\python312\\lib\\site-packages (from tensorflow) (3.1.0)\n",
      "Requirement already satisfied: typing_extensions>=3.6.6 in c:\\python312\\lib\\site-packages (from tensorflow) (4.12.2)\n",
      "Requirement already satisfied: wrapt>=1.11.0 in c:\\python312\\lib\\site-packages (from tensorflow) (1.17.2)\n",
      "Requirement already satisfied: grpcio<2.0,>=1.24.3 in c:\\python312\\lib\\site-packages (from tensorflow) (1.75.1)\n",
      "Requirement already satisfied: tensorboard~=2.20.0 in c:\\python312\\lib\\site-packages (from tensorflow) (2.20.0)\n",
      "Requirement already satisfied: keras>=3.10.0 in c:\\python312\\lib\\site-packages (from tensorflow) (3.11.3)\n",
      "Requirement already satisfied: numpy>=1.26.0 in c:\\users\\michael\\appdata\\roaming\\python\\python312\\site-packages (from tensorflow) (2.2.3)\n",
      "Requirement already satisfied: h5py>=3.11.0 in c:\\python312\\lib\\site-packages (from tensorflow) (3.14.0)\n",
      "Requirement already satisfied: ml_dtypes<1.0.0,>=0.5.1 in c:\\python312\\lib\\site-packages (from tensorflow) (0.5.3)\n",
      "Requirement already satisfied: wheel<1.0,>=0.23.0 in c:\\python312\\lib\\site-packages (from astunparse>=1.6.0->tensorflow) (0.45.1)\n",
      "Requirement already satisfied: rich in c:\\users\\michael\\appdata\\roaming\\python\\python312\\site-packages (from keras>=3.10.0->tensorflow) (13.9.4)\n",
      "Requirement already satisfied: namex in c:\\python312\\lib\\site-packages (from keras>=3.10.0->tensorflow) (0.1.0)\n",
      "Requirement already satisfied: optree in c:\\python312\\lib\\site-packages (from keras>=3.10.0->tensorflow) (0.17.0)\n",
      "Requirement already satisfied: charset-normalizer<4,>=2 in c:\\users\\michael\\appdata\\roaming\\python\\python312\\site-packages (from requests<3,>=2.21.0->tensorflow) (3.4.1)\n",
      "Requirement already satisfied: idna<4,>=2.5 in c:\\users\\michael\\appdata\\roaming\\python\\python312\\site-packages (from requests<3,>=2.21.0->tensorflow) (3.10)\n",
      "Requirement already satisfied: urllib3<3,>=1.21.1 in c:\\python312\\lib\\site-packages (from requests<3,>=2.21.0->tensorflow) (2.3.0)\n",
      "Requirement already satisfied: certifi>=2017.4.17 in c:\\users\\michael\\appdata\\roaming\\python\\python312\\site-packages (from requests<3,>=2.21.0->tensorflow) (2025.1.31)\n",
      "Requirement already satisfied: markdown>=2.6.8 in c:\\python312\\lib\\site-packages (from tensorboard~=2.20.0->tensorflow) (3.9)\n",
      "Requirement already satisfied: pillow in c:\\users\\michael\\appdata\\roaming\\python\\python312\\site-packages (from tensorboard~=2.20.0->tensorflow) (11.1.0)\n",
      "Requirement already satisfied: tensorboard-data-server<0.8.0,>=0.7.0 in c:\\python312\\lib\\site-packages (from tensorboard~=2.20.0->tensorflow) (0.7.2)\n",
      "Requirement already satisfied: werkzeug>=1.0.1 in c:\\python312\\lib\\site-packages (from tensorboard~=2.20.0->tensorflow) (3.1.3)\n",
      "Requirement already satisfied: MarkupSafe>=2.1.1 in c:\\users\\michael\\appdata\\roaming\\python\\python312\\site-packages (from werkzeug>=1.0.1->tensorboard~=2.20.0->tensorflow) (3.0.2)\n",
      "Requirement already satisfied: markdown-it-py>=2.2.0 in c:\\users\\michael\\appdata\\roaming\\python\\python312\\site-packages (from rich->keras>=3.10.0->tensorflow) (3.0.0)\n",
      "Requirement already satisfied: pygments<3.0.0,>=2.13.0 in c:\\users\\michael\\appdata\\roaming\\python\\python312\\site-packages (from rich->keras>=3.10.0->tensorflow) (2.19.1)\n",
      "Requirement already satisfied: mdurl~=0.1 in c:\\users\\michael\\appdata\\roaming\\python\\python312\\site-packages (from markdown-it-py>=2.2.0->rich->keras>=3.10.0->tensorflow) (0.1.2)\n",
      "Using cached tensorflow-2.20.0-cp312-cp312-win_amd64.whl (331.9 MB)\n",
      "Installing collected packages: tensorflow\n",
      "Note: you may need to restart the kernel to use updated packages.\n"
     ]
    },
    {
     "name": "stderr",
     "output_type": "stream",
     "text": [
      "ERROR: Could not install packages due to an OSError: [WinError 32] The process cannot access the file because it is being used by another process: 'c:\\\\Python312\\\\Lib\\\\site-packages\\\\tensorflow\\\\python\\\\feature_column\\\\feature_column_lib.py'\n",
      "Consider using the `--user` option or check the permissions.\n",
      "\n",
      "\n",
      "[notice] A new release of pip is available: 24.0 -> 25.2\n",
      "[notice] To update, run: python.exe -m pip install --upgrade pip\n"
     ]
    }
   ],
   "source": [
    "%pip install tensorflow"
   ]
  },
  {
   "cell_type": "code",
   "execution_count": 9,
   "id": "9d76cdbb",
   "metadata": {},
   "outputs": [
    {
     "name": "stdout",
     "output_type": "stream",
     "text": [
      "[OK] Using dataset at: ../data/bookReviewsData.csv\n"
     ]
    }
   ],
   "source": [
    "import os\n",
    "import re\n",
    "import numpy as np\n",
    "import pandas as pd\n",
    "from typing import Tuple\n",
    "\n",
    "from sklearn.model_selection import train_test_split, GridSearchCV\n",
    "from sklearn.feature_extraction.text import TfidfVectorizer\n",
    "from sklearn.linear_model import LogisticRegression\n",
    "from sklearn.metrics import accuracy_score, precision_recall_fscore_support, confusion_matrix, classification_report\n",
    "\n",
    "import matplotlib.pyplot as plt\n",
    "\n",
    "import tensorflow as tf\n",
    "from tensorflow.keras.models import Sequential\n",
    "from tensorflow.keras.layers import Dense, Dropout\n",
    "from tensorflow.keras.callbacks import EarlyStopping\n",
    "\n",
    "# ---- Data path handling ----\n",
    "DATA_PATH = os.environ.get(\"../data/bookReviewsData.csv\", None)\n",
    "if DATA_PATH is None:\n",
    "    # fallback to a conventional filename\n",
    "    DATA_PATH = \"../data/bookReviewsData.csv\"\n",
    "\n",
    "if not os.path.exists(DATA_PATH):\n",
    "    print(f\"[INFO] Expected dataset at '{DATA_PATH}'.\")\n",
    "    print(\"Provide a CSV with columns 'Review' (text) and 'PositiveReview' (0/1).\")\n",
    "else:\n",
    "    print(f\"[OK] Using dataset at: {DATA_PATH}\")\n"
   ]
  },
  {
   "cell_type": "markdown",
   "id": "851359c1",
   "metadata": {},
   "source": [
    "## 3. Data Summary\n",
    "\n",
    "We load the dataset, check for missing values, basic distributions, and review lengths.\n"
   ]
  },
  {
   "cell_type": "code",
   "execution_count": 11,
   "id": "2697b259",
   "metadata": {},
   "outputs": [
    {
     "data": {
      "text/html": [
       "<div>\n",
       "<style scoped>\n",
       "    .dataframe tbody tr th:only-of-type {\n",
       "        vertical-align: middle;\n",
       "    }\n",
       "\n",
       "    .dataframe tbody tr th {\n",
       "        vertical-align: top;\n",
       "    }\n",
       "\n",
       "    .dataframe thead th {\n",
       "        text-align: right;\n",
       "    }\n",
       "</style>\n",
       "<table border=\"1\" class=\"dataframe\">\n",
       "  <thead>\n",
       "    <tr style=\"text-align: right;\">\n",
       "      <th></th>\n",
       "      <th>Review</th>\n",
       "      <th>Positive Review</th>\n",
       "    </tr>\n",
       "  </thead>\n",
       "  <tbody>\n",
       "    <tr>\n",
       "      <th>0</th>\n",
       "      <td>This was perhaps the best of Johannes Steinhof...</td>\n",
       "      <td>True</td>\n",
       "    </tr>\n",
       "    <tr>\n",
       "      <th>1</th>\n",
       "      <td>This very fascinating book is a story written ...</td>\n",
       "      <td>True</td>\n",
       "    </tr>\n",
       "    <tr>\n",
       "      <th>2</th>\n",
       "      <td>The four tales in this collection are beautifu...</td>\n",
       "      <td>True</td>\n",
       "    </tr>\n",
       "    <tr>\n",
       "      <th>3</th>\n",
       "      <td>The book contained more profanity than I expec...</td>\n",
       "      <td>False</td>\n",
       "    </tr>\n",
       "    <tr>\n",
       "      <th>4</th>\n",
       "      <td>We have now entered a second time of deep conc...</td>\n",
       "      <td>True</td>\n",
       "    </tr>\n",
       "  </tbody>\n",
       "</table>\n",
       "</div>"
      ],
      "text/plain": [
       "                                              Review  Positive Review\n",
       "0  This was perhaps the best of Johannes Steinhof...             True\n",
       "1  This very fascinating book is a story written ...             True\n",
       "2  The four tales in this collection are beautifu...             True\n",
       "3  The book contained more profanity than I expec...            False\n",
       "4  We have now entered a second time of deep conc...             True"
      ]
     },
     "metadata": {},
     "output_type": "display_data"
    },
    {
     "name": "stdout",
     "output_type": "stream",
     "text": [
      "<class 'pandas.core.frame.DataFrame'>\n",
      "RangeIndex: 1973 entries, 0 to 1972\n",
      "Data columns (total 2 columns):\n",
      " #   Column           Non-Null Count  Dtype \n",
      "---  ------           --------------  ----- \n",
      " 0   Review           1973 non-null   object\n",
      " 1   Positive Review  1973 non-null   bool  \n",
      "dtypes: bool(1), object(1)\n",
      "memory usage: 17.5+ KB\n"
     ]
    },
    {
     "data": {
      "text/plain": [
       "None"
      ]
     },
     "metadata": {},
     "output_type": "display_data"
    },
    {
     "data": {
      "text/plain": [
       "Positive Review\n",
       "False    993\n",
       "True     980\n",
       "Name: count, dtype: int64"
      ]
     },
     "metadata": {},
     "output_type": "display_data"
    },
    {
     "name": "stdout",
     "output_type": "stream",
     "text": [
      "count     1973.000000\n",
      "mean       933.336036\n",
      "std       1450.187183\n",
      "min         59.000000\n",
      "25%        331.000000\n",
      "50%        586.000000\n",
      "75%       1065.000000\n",
      "max      32467.000000\n",
      "Name: text_len, dtype: float64\n"
     ]
    }
   ],
   "source": [
    "# Load data\n",
    "df = pd.read_csv(DATA_PATH)\n",
    "\n",
    "# Basic checks\n",
    "display(df.head())\n",
    "display(df.info())\n",
    "display(df['Positive Review'].value_counts())\n",
    "\n",
    "# Text length distribution (simple numeric summary)\n",
    "df['text_len'] = df['Review'].astype(str).apply(len)\n",
    "print(df['text_len'].describe())\n"
   ]
  },
  {
   "cell_type": "markdown",
   "id": "6899efc6",
   "metadata": {},
   "source": [
    "## 4. Text Preprocessing\n",
    "\n",
    "We apply a minimal, reproducible cleaning function:\n",
    "- Lowercasing\n",
    "- Remove URLs\n",
    "- Remove non-alphabetic characters\n",
    "- Collapse extra whitespace\n"
   ]
  },
  {
   "cell_type": "code",
   "execution_count": 12,
   "id": "11b50911",
   "metadata": {},
   "outputs": [
    {
     "data": {
      "text/html": [
       "<div>\n",
       "<style scoped>\n",
       "    .dataframe tbody tr th:only-of-type {\n",
       "        vertical-align: middle;\n",
       "    }\n",
       "\n",
       "    .dataframe tbody tr th {\n",
       "        vertical-align: top;\n",
       "    }\n",
       "\n",
       "    .dataframe thead th {\n",
       "        text-align: right;\n",
       "    }\n",
       "</style>\n",
       "<table border=\"1\" class=\"dataframe\">\n",
       "  <thead>\n",
       "    <tr style=\"text-align: right;\">\n",
       "      <th></th>\n",
       "      <th>Review</th>\n",
       "      <th>cleaned_review</th>\n",
       "    </tr>\n",
       "  </thead>\n",
       "  <tbody>\n",
       "    <tr>\n",
       "      <th>0</th>\n",
       "      <td>This was perhaps the best of Johannes Steinhof...</td>\n",
       "      <td>this was perhaps the best of johannes steinhof...</td>\n",
       "    </tr>\n",
       "    <tr>\n",
       "      <th>1</th>\n",
       "      <td>This very fascinating book is a story written ...</td>\n",
       "      <td>this very fascinating book is a story written ...</td>\n",
       "    </tr>\n",
       "    <tr>\n",
       "      <th>2</th>\n",
       "      <td>The four tales in this collection are beautifu...</td>\n",
       "      <td>the four tales in this collection are beautifu...</td>\n",
       "    </tr>\n",
       "    <tr>\n",
       "      <th>3</th>\n",
       "      <td>The book contained more profanity than I expec...</td>\n",
       "      <td>the book contained more profanity than i expec...</td>\n",
       "    </tr>\n",
       "    <tr>\n",
       "      <th>4</th>\n",
       "      <td>We have now entered a second time of deep conc...</td>\n",
       "      <td>we have now entered a second time of deep conc...</td>\n",
       "    </tr>\n",
       "  </tbody>\n",
       "</table>\n",
       "</div>"
      ],
      "text/plain": [
       "                                              Review  \\\n",
       "0  This was perhaps the best of Johannes Steinhof...   \n",
       "1  This very fascinating book is a story written ...   \n",
       "2  The four tales in this collection are beautifu...   \n",
       "3  The book contained more profanity than I expec...   \n",
       "4  We have now entered a second time of deep conc...   \n",
       "\n",
       "                                      cleaned_review  \n",
       "0  this was perhaps the best of johannes steinhof...  \n",
       "1  this very fascinating book is a story written ...  \n",
       "2  the four tales in this collection are beautifu...  \n",
       "3  the book contained more profanity than i expec...  \n",
       "4  we have now entered a second time of deep conc...  "
      ]
     },
     "metadata": {},
     "output_type": "display_data"
    }
   ],
   "source": [
    "def clean_text(s: str) -> str:\n",
    "    s = str(s).lower()\n",
    "    s = re.sub(r\"http\\S+|www\\.\\S+\", \" \", s)              # remove URLs\n",
    "    s = re.sub(r\"[^a-z\\s]\", \" \", s)                      # keep letters and spaces\n",
    "    s = re.sub(r\"\\s+\", \" \", s).strip()                   # collapse spaces\n",
    "    return s\n",
    "\n",
    "df['cleaned_review'] = df['Review'].astype(str).apply(clean_text)\n",
    "display(df[['Review', 'cleaned_review']].head())\n"
   ]
  },
  {
   "cell_type": "markdown",
   "id": "0d2b3ebf",
   "metadata": {},
   "source": [
    "## 5. Train/Test Split & Vectorization\n",
    "\n",
    "We split the data (80/20) and transform text with **TF‑IDF**.\n"
   ]
  },
  {
   "cell_type": "code",
   "execution_count": 14,
   "id": "6ffb0f50",
   "metadata": {},
   "outputs": [
    {
     "data": {
      "text/plain": [
       "((1578, 36089), (395, 36089))"
      ]
     },
     "execution_count": 14,
     "metadata": {},
     "output_type": "execute_result"
    }
   ],
   "source": [
    "X = df['cleaned_review'].values\n",
    "y = df['Positive Review'].astype(int).values\n",
    "\n",
    "X_train, X_test, y_train, y_test = train_test_split(\n",
    "    X, y, test_size=0.2, random_state=42, stratify=y\n",
    ")\n",
    "\n",
    "tfidf = TfidfVectorizer(ngram_range=(1,2), min_df=2, max_df=0.9)\n",
    "X_train_vec = tfidf.fit_transform(X_train)\n",
    "X_test_vec  = tfidf.transform(X_test)\n",
    "\n",
    "X_train_vec.shape, X_test_vec.shape\n"
   ]
  },
  {
   "cell_type": "markdown",
   "id": "abe73de5",
   "metadata": {},
   "source": [
    "## 6. Model A — Logistic Regression (with Hyperparameter Search)\n",
    "\n",
    "We use `liblinear`/`saga` solvers and tune regularization strength `C`.\n"
   ]
  },
  {
   "cell_type": "code",
   "execution_count": 15,
   "id": "dc4be003",
   "metadata": {},
   "outputs": [
    {
     "name": "stdout",
     "output_type": "stream",
     "text": [
      "[Best LR] {'C': 5.0, 'max_iter': 2000, 'penalty': 'l2', 'solver': 'saga'}\n",
      "LR — Accuracy: 0.8354, Precision: 0.8394, Recall: 0.8265, F1: 0.8329\n",
      "\n",
      "Classification Report (LR):\n",
      "               precision    recall  f1-score   support\n",
      "\n",
      "           0     0.8317    0.8442    0.8379       199\n",
      "           1     0.8394    0.8265    0.8329       196\n",
      "\n",
      "    accuracy                         0.8354       395\n",
      "   macro avg     0.8355    0.8354    0.8354       395\n",
      "weighted avg     0.8355    0.8354    0.8354       395\n",
      "\n",
      "Confusion Matrix (LR):\n",
      " [[168  31]\n",
      " [ 34 162]]\n"
     ]
    }
   ],
   "source": [
    "param_grid = {\n",
    "    'C': [0.1, 0.5, 1.0, 2.0, 5.0],\n",
    "    'penalty': ['l2'],\n",
    "    'solver': ['liblinear', 'saga'],\n",
    "    'max_iter': [2000]\n",
    "}\n",
    "\n",
    "lr = LogisticRegression()\n",
    "grid = GridSearchCV(lr, param_grid, cv=5, n_jobs=-1, scoring='f1')\n",
    "grid.fit(X_train_vec, y_train)\n",
    "\n",
    "best_lr = grid.best_estimator_\n",
    "print('[Best LR]', grid.best_params_)\n",
    "\n",
    "y_pred_lr = best_lr.predict(X_test_vec)\n",
    "acc_lr = accuracy_score(y_test, y_pred_lr)\n",
    "prec_lr, rec_lr, f1_lr, _ = precision_recall_fscore_support(y_test, y_pred_lr, average='binary')\n",
    "\n",
    "print(f\"LR — Accuracy: {acc_lr:.4f}, Precision: {prec_lr:.4f}, Recall: {rec_lr:.4f}, F1: {f1_lr:.4f}\")\n",
    "print('\\nClassification Report (LR):\\n', classification_report(y_test, y_pred_lr, digits=4))\n",
    "\n",
    "cm_lr = confusion_matrix(y_test, y_pred_lr)\n",
    "print('Confusion Matrix (LR):\\n', cm_lr)\n"
   ]
  },
  {
   "cell_type": "markdown",
   "id": "aba9849a",
   "metadata": {},
   "source": [
    "## 7. Model B — Feedforward Neural Network (Keras)\n",
    "\n",
    "A compact NN to compare against classical ML on TF‑IDF features. We include early stopping to avoid overfitting.\n"
   ]
  },
  {
   "cell_type": "code",
   "execution_count": 16,
   "id": "38867a93",
   "metadata": {},
   "outputs": [
    {
     "name": "stderr",
     "output_type": "stream",
     "text": [
      "c:\\Python312\\Lib\\site-packages\\keras\\src\\layers\\core\\dense.py:92: UserWarning: Do not pass an `input_shape`/`input_dim` argument to a layer. When using Sequential models, prefer using an `Input(shape)` object as the first layer in the model instead.\n",
      "  super().__init__(activity_regularizer=activity_regularizer, **kwargs)\n"
     ]
    },
    {
     "name": "stdout",
     "output_type": "stream",
     "text": [
      "\u001b[1m13/13\u001b[0m \u001b[32m━━━━━━━━━━━━━━━━━━━━\u001b[0m\u001b[37m\u001b[0m \u001b[1m0s\u001b[0m 14ms/step\n",
      "NN — Accuracy: 0.8506, Precision: 0.8341, Recall: 0.8724, F1: 0.8529\n",
      "\n",
      "Classification Report (NN):\n",
      "               precision    recall  f1-score   support\n",
      "\n",
      "           0     0.8684    0.8291    0.8483       199\n",
      "           1     0.8341    0.8724    0.8529       196\n",
      "\n",
      "    accuracy                         0.8506       395\n",
      "   macro avg     0.8513    0.8508    0.8506       395\n",
      "weighted avg     0.8514    0.8506    0.8506       395\n",
      "\n",
      "Confusion Matrix (NN):\n",
      " [[165  34]\n",
      " [ 25 171]]\n"
     ]
    },
    {
     "data": {
      "image/png": "[encoded data removed]",
      "text/plain": [
       "<Figure size 640x480 with 1 Axes>"
      ]
     },
     "metadata": {},
     "output_type": "display_data"
    },
    {
     "data": {
      "image/png": "[encoded data removed]",
      "text/plain": [
       "<Figure size 640x480 with 1 Axes>"
      ]
     },
     "metadata": {},
     "output_type": "display_data"
    }
   ],
   "source": [
    "input_dim = X_train_vec.shape[1]\n",
    "\n",
    "nn = Sequential([\n",
    "    Dense(128, activation='relu', input_shape=(input_dim,)),\n",
    "    Dropout(0.3),\n",
    "    Dense(64, activation='relu'),\n",
    "    Dropout(0.3),\n",
    "    Dense(1, activation='sigmoid')\n",
    "])\n",
    "\n",
    "nn.compile(optimizer='adam', loss='binary_crossentropy', metrics=['accuracy'])\n",
    "\n",
    "es = EarlyStopping(patience=3, restore_best_weights=True, monitor='val_loss')\n",
    "\n",
    "hist = nn.fit(\n",
    "    X_train_vec.toarray(), y_train,\n",
    "    validation_split=0.2,\n",
    "    epochs=20,\n",
    "    batch_size=64,\n",
    "    callbacks=[es],\n",
    "    verbose=0\n",
    ")\n",
    "\n",
    "y_pred_nn_prob = nn.predict(X_test_vec.toarray()).ravel()\n",
    "y_pred_nn = (y_pred_nn_prob >= 0.5).astype(int)\n",
    "\n",
    "acc_nn = accuracy_score(y_test, y_pred_nn)\n",
    "prec_nn, rec_nn, f1_nn, _ = precision_recall_fscore_support(y_test, y_pred_nn, average='binary')\n",
    "\n",
    "print(f\"NN — Accuracy: {acc_nn:.4f}, Precision: {prec_nn:.4f}, Recall: {rec_nn:.4f}, F1: {f1_nn:.4f}\")\n",
    "print('\\nClassification Report (NN):\\n', classification_report(y_test, y_pred_nn, digits=4))\n",
    "\n",
    "cm_nn = confusion_matrix(y_test, y_pred_nn)\n",
    "print('Confusion Matrix (NN):\\n', cm_nn)\n",
    "\n",
    "# Plot training curves\n",
    "plt.figure()\n",
    "plt.plot(hist.history['accuracy'], label='train_acc')\n",
    "plt.plot(hist.history['val_accuracy'], label='val_acc')\n",
    "plt.title('NN Accuracy')\n",
    "plt.xlabel('Epoch')\n",
    "plt.ylabel('Accuracy')\n",
    "plt.legend()\n",
    "plt.show()\n",
    "\n",
    "plt.figure()\n",
    "plt.plot(hist.history['loss'], label='train_loss')\n",
    "plt.plot(hist.history['val_loss'], label='val_loss')\n",
    "plt.title('NN Loss')\n",
    "plt.xlabel('Epoch')\n",
    "plt.ylabel('Loss')\n",
    "plt.legend()\n",
    "plt.show()\n"
   ]
  },
  {
   "cell_type": "markdown",
   "id": "f7faca15",
   "metadata": {},
   "source": [
    "## 8. Results & Comparison\n",
    "\n",
    "We tabulate core metrics to compare models and record the winner.\n"
   ]
  },
  {
   "cell_type": "code",
   "execution_count": 17,
   "id": "b514967b",
   "metadata": {},
   "outputs": [
    {
     "data": {
      "text/html": [
       "<div>\n",
       "<style scoped>\n",
       "    .dataframe tbody tr th:only-of-type {\n",
       "        vertical-align: middle;\n",
       "    }\n",
       "\n",
       "    .dataframe tbody tr th {\n",
       "        vertical-align: top;\n",
       "    }\n",
       "\n",
       "    .dataframe thead th {\n",
       "        text-align: right;\n",
       "    }\n",
       "</style>\n",
       "<table border=\"1\" class=\"dataframe\">\n",
       "  <thead>\n",
       "    <tr style=\"text-align: right;\">\n",
       "      <th></th>\n",
       "      <th>model</th>\n",
       "      <th>accuracy</th>\n",
       "      <th>precision</th>\n",
       "      <th>recall</th>\n",
       "      <th>f1</th>\n",
       "    </tr>\n",
       "  </thead>\n",
       "  <tbody>\n",
       "    <tr>\n",
       "      <th>0</th>\n",
       "      <td>Neural Network</td>\n",
       "      <td>0.850633</td>\n",
       "      <td>0.834146</td>\n",
       "      <td>0.872449</td>\n",
       "      <td>0.852868</td>\n",
       "    </tr>\n",
       "    <tr>\n",
       "      <th>1</th>\n",
       "      <td>Logistic Regression</td>\n",
       "      <td>0.835443</td>\n",
       "      <td>0.839378</td>\n",
       "      <td>0.826531</td>\n",
       "      <td>0.832905</td>\n",
       "    </tr>\n",
       "  </tbody>\n",
       "</table>\n",
       "</div>"
      ],
      "text/plain": [
       "                 model  accuracy  precision    recall        f1\n",
       "0       Neural Network  0.850633   0.834146  0.872449  0.852868\n",
       "1  Logistic Regression  0.835443   0.839378  0.826531  0.832905"
      ]
     },
     "metadata": {},
     "output_type": "display_data"
    },
    {
     "name": "stdout",
     "output_type": "stream",
     "text": [
      "[RESULT] Best model: Neural Network (by F1 score)\n"
     ]
    }
   ],
   "source": [
    "summary = pd.DataFrame({\n",
    "    'model': ['Logistic Regression', 'Neural Network'],\n",
    "    'accuracy': [acc_lr, acc_nn],\n",
    "    'precision': [prec_lr, prec_nn],\n",
    "    'recall': [rec_lr, rec_nn],\n",
    "    'f1': [f1_lr, f1_nn]\n",
    "}).sort_values('f1', ascending=False).reset_index(drop=True)\n",
    "\n",
    "display(summary)\n",
    "\n",
    "winner = summary.iloc[0]['model']\n",
    "print(f\"[RESULT] Best model: {winner} (by F1 score)\")\n"
   ]
  },
  {
   "cell_type": "markdown",
   "id": "06b643f9",
   "metadata": {},
   "source": [
    "## 9. Takeaways\n",
    "\n",
    "- With limited or moderately sized datasets and **sparse TF‑IDF features**, linear models\n",
    "  like **Logistic Regression** can **match or outperform** small neural networks.\n",
    "- **Regularization** and a **small hyperparameter search** are often sufficient for strong baselines.\n",
    "- For further gains, consider: character n‑grams, class-weighting, threshold tuning, and\n",
    "  pre-trained embeddings (e.g., spaCy, fastText) or transformer-based encoders when data permits.\n"
   ]
  },
  {
   "cell_type": "markdown",
   "id": "ffa20692",
   "metadata": {},
   "source": [
    "## 10. Reproducibility & How to Run\n",
    "\n",
    "1. Place your dataset as `book_reviews.csv` or set an env var:\n",
    "   ```bash\n",
    "   export BOOK_REVIEW_DATA_PATH=/path/to/your.csv\n",
    "   ```\n",
    "2. Install dependencies:\n",
    "   ```bash\n",
    "   pip install -r requirements.txt\n",
    "   ```\n",
    "3. Run this notebook cell-by-cell.\n",
    "\n",
    "> Expected columns: `Review` (text), `PositiveReview` (0/1).\n"
   ]
  }
 ],
 "metadata": {
  "kernelspec": {
   "display_name": "Python 3",
   "name": "python3"
  },
  "language_info": {
   "codemirror_mode": {
    "name": "ipython",
    "version": 3
   },
   "file_extension": ".py",
   "mimetype": "text/x-python",
   "name": "python",
   "nbconvert_exporter": "python",
   "pygments_lexer": "ipython3",
   "version": "3.12.3"
  }
 },
 "nbformat": 4,
 "nbformat_minor": 5
}
